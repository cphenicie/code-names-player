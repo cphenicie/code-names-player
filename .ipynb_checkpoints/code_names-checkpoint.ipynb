{
 "cells": [
  {
   "cell_type": "markdown",
   "metadata": {},
   "source": [
    "Use the word2vec definitions from glove"
   ]
  },
  {
   "cell_type": "code",
   "execution_count": 1,
   "metadata": {},
   "outputs": [],
   "source": [
    "import numpy as np\n",
    "from tqdm import tqdm_notebook"
   ]
  },
  {
   "cell_type": "code",
   "execution_count": 2,
   "metadata": {},
   "outputs": [],
   "source": [
    "vectorDict = {}\n",
    "failedList = []\n",
    "with open(r\"C:\\Users\\chris\\Documents\\class\\COS485_NeuralNetworks\\PS07\\glove.6B\\glove.6B.200d.txt\", \"r\", encoding=\"mbcs\") as f:\n",
    "    for line in f:\n",
    "        try:\n",
    "            vectorDict[line.split()[0]] = np.array(line.split()[1:]).astype(np.float)\n",
    "        except ValueError:\n",
    "            failedList.append(line)"
   ]
  },
  {
   "cell_type": "code",
   "execution_count": 3,
   "metadata": {},
   "outputs": [
    {
     "name": "stdout",
     "output_type": "stream",
     "text": [
      "51\n"
     ]
    },
    {
     "data": {
      "text/plain": [
       "'vis-Ã\\xa0-vis'"
      ]
     },
     "execution_count": 3,
     "metadata": {},
     "output_type": "execute_result"
    }
   ],
   "source": [
    "print(len(failedList))\n",
    "failedList[1][0:10]"
   ]
  },
  {
   "cell_type": "markdown",
   "metadata": {},
   "source": [
    "Unfortunately it looks like words with accents in them didn't make it. However, these are only 51/400000"
   ]
  },
  {
   "cell_type": "code",
   "execution_count": 4,
   "metadata": {},
   "outputs": [],
   "source": [
    "def cos_diff(a,b):\n",
    "    \"\"\" Negative cosine of the angle between the two vector (so bigger means closer) \n",
    "    \n",
    "    Choose negative to the smallest elements are the closest\n",
    "    \"\"\"\n",
    "    return -1 * (np.inner(a, b) / (np.linalg.norm(a) * np.linalg.norm(b)))\n",
    "\n",
    "def euclidean_distance(a,b):\n",
    "    return np.linalg.norm(b - a)\n",
    "    \n",
    "def closest_n(vectorDict, vec, n):\n",
    "    \"\"\" Find the n closest words in vectorDict to the specific vector vec \"\"\"\n",
    "    \n",
    "    # Find the distances from vec to each word\n",
    "    dist_dict = {}\n",
    "    for key, val in tqdm_notebook(vectorDict.items()):\n",
    "        dist_dict[key] = cos_diff(val, vec)\n",
    "#         dist_dict[key] = euclidean_distance(val, vec)\n",
    "    \n",
    "    # Sort this to find the closest n\n",
    "    idx = np.argpartition(list(dist_dict.values()), n)[:n] # Returns the n most similar idx in any order\n",
    "    unsorted_dict = dict(np.array(list(dist_dict.items()))[idx])\n",
    "    \n",
    "    return unsorted_dict\n",
    "\n",
    "def find_code_name(vectorDict, words):\n",
    "    \"\"\" For a given set of words, find the code name that is closest to them \"\"\"\n",
    "    \n",
    "    bad = ['.', ',']\n",
    "    \n",
    "    avg_vec = np.mean([vectorDict[word] for word in words], axis=0)\n",
    "    # Find at least one more than the number of words, to make sure at least one isn't in the original list or bad list\n",
    "    num = len(words) + len(bad) + 1\n",
    "    \n",
    "    rejects = np.concatenate([bad, words])\n",
    "    \n",
    "    candidates = closest_n(vectorDict, avg_vec, num)\n",
    "    candidates_sorted = {key:val for key, val in sorted(candidates.items(), key=lambda item: item[1]) if key not in rejects}\n",
    "    return candidates_sorted"
   ]
  },
  {
   "cell_type": "code",
   "execution_count": 8,
   "metadata": {},
   "outputs": [
    {
     "data": {
      "application/vnd.jupyter.widget-view+json": {
       "model_id": "03f0a0f7caa5402e9aef745bc0e5a54b",
       "version_major": 2,
       "version_minor": 0
      },
      "text/plain": [
       "HBox(children=(IntProgress(value=0, max=399949), HTML(value='')))"
      ]
     },
     "metadata": {},
     "output_type": "display_data"
    },
    {
     "name": "stdout",
     "output_type": "stream",
     "text": [
      "\n"
     ]
    },
    {
     "data": {
      "text/plain": [
       "{'tree': '-0.5004899999197358',\n",
       " 'crab': '-0.5123955771470834',\n",
       " 'pine': '-0.5156311263619677'}"
      ]
     },
     "execution_count": 8,
     "metadata": {},
     "output_type": "execute_result"
    }
   ],
   "source": [
    "find_code_name(vectorDict, ['ground', 'nut', 'horseshoe'])"
   ]
  },
  {
   "cell_type": "code",
   "execution_count": null,
   "metadata": {},
   "outputs": [],
   "source": []
  }
 ],
 "metadata": {
  "kernelspec": {
   "display_name": "Python 3",
   "language": "python",
   "name": "python3"
  },
  "language_info": {
   "codemirror_mode": {
    "name": "ipython",
    "version": 3
   },
   "file_extension": ".py",
   "mimetype": "text/x-python",
   "name": "python",
   "nbconvert_exporter": "python",
   "pygments_lexer": "ipython3",
   "version": "3.6.4"
  }
 },
 "nbformat": 4,
 "nbformat_minor": 4
}
